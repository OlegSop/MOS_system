{
 "cells": [
  {
   "cell_type": "code",
   "execution_count": 1,
   "id": "a10500ff",
   "metadata": {},
   "outputs": [],
   "source": [
    "import numpy as np \n",
    "import pandas as pd \n",
    "from sklearn.model_selection import train_test_split\n",
    "from sklearn.preprocessing import StandardScaler\n",
    "from xgboost import XGBRegressor, XGBRFRegressor\n",
    "from sklearn.metrics import r2_score,mean_absolute_error,mean_squared_error\n",
    "import joblib"
   ]
  },
  {
   "cell_type": "code",
   "execution_count": 2,
   "id": "8af87b38",
   "metadata": {},
   "outputs": [],
   "source": [
    "path_to_csv='training_data\\measures_v3.csv'\n",
    "data = pd.read_csv(path_to_csv)\n",
    "if {'i_d', 'i_q', 'u_d', 'u_q'}.issubset(set(data.columns.tolist())):\n",
    "    extra_feats = {'i_s': lambda x: np.sqrt((x['i_d']**2 + x['i_q']**2)), \n",
    "                   'u_s': lambda x: np.sqrt((x['u_d']**2 + x['u_q']**2))}\n",
    "data = data.assign(**extra_feats)"
   ]
  },
  {
   "cell_type": "code",
   "execution_count": 3,
   "id": "8090b7a9",
   "metadata": {},
   "outputs": [
    {
     "data": {
      "text/html": [
       "<div>\n",
       "<style scoped>\n",
       "    .dataframe tbody tr th:only-of-type {\n",
       "        vertical-align: middle;\n",
       "    }\n",
       "\n",
       "    .dataframe tbody tr th {\n",
       "        vertical-align: top;\n",
       "    }\n",
       "\n",
       "    .dataframe thead th {\n",
       "        text-align: right;\n",
       "    }\n",
       "</style>\n",
       "<table border=\"1\" class=\"dataframe\">\n",
       "  <thead>\n",
       "    <tr style=\"text-align: right;\">\n",
       "      <th></th>\n",
       "      <th>coolant</th>\n",
       "      <th>ambient</th>\n",
       "      <th>i_d</th>\n",
       "      <th>i_q</th>\n",
       "      <th>i_s</th>\n",
       "      <th>u_q</th>\n",
       "      <th>u_d</th>\n",
       "      <th>u_s</th>\n",
       "      <th>motor_speed</th>\n",
       "      <th>torque</th>\n",
       "      <th>pm</th>\n",
       "      <th>profile_id</th>\n",
       "    </tr>\n",
       "  </thead>\n",
       "  <tbody>\n",
       "    <tr>\n",
       "      <th>0</th>\n",
       "      <td>18.805172</td>\n",
       "      <td>19.850691</td>\n",
       "      <td>0.004419</td>\n",
       "      <td>0.000328</td>\n",
       "      <td>0.004431</td>\n",
       "      <td>-0.450682</td>\n",
       "      <td>-0.350055</td>\n",
       "      <td>0.570659</td>\n",
       "      <td>0.002866</td>\n",
       "      <td>0.187101</td>\n",
       "      <td>24.554214</td>\n",
       "      <td>17</td>\n",
       "    </tr>\n",
       "    <tr>\n",
       "      <th>1</th>\n",
       "      <td>18.818571</td>\n",
       "      <td>19.850672</td>\n",
       "      <td>0.000606</td>\n",
       "      <td>-0.000785</td>\n",
       "      <td>0.000992</td>\n",
       "      <td>-0.325737</td>\n",
       "      <td>-0.305803</td>\n",
       "      <td>0.446789</td>\n",
       "      <td>0.000257</td>\n",
       "      <td>0.245417</td>\n",
       "      <td>24.538078</td>\n",
       "      <td>17</td>\n",
       "    </tr>\n",
       "    <tr>\n",
       "      <th>2</th>\n",
       "      <td>18.828770</td>\n",
       "      <td>19.850657</td>\n",
       "      <td>0.001290</td>\n",
       "      <td>0.000386</td>\n",
       "      <td>0.001346</td>\n",
       "      <td>-0.440864</td>\n",
       "      <td>-0.372503</td>\n",
       "      <td>0.577165</td>\n",
       "      <td>0.002355</td>\n",
       "      <td>0.176615</td>\n",
       "      <td>24.544693</td>\n",
       "      <td>17</td>\n",
       "    </tr>\n",
       "    <tr>\n",
       "      <th>3</th>\n",
       "      <td>18.835567</td>\n",
       "      <td>19.850647</td>\n",
       "      <td>0.000026</td>\n",
       "      <td>0.002046</td>\n",
       "      <td>0.002046</td>\n",
       "      <td>-0.327026</td>\n",
       "      <td>-0.316199</td>\n",
       "      <td>0.454893</td>\n",
       "      <td>0.006105</td>\n",
       "      <td>0.238303</td>\n",
       "      <td>24.554018</td>\n",
       "      <td>17</td>\n",
       "    </tr>\n",
       "    <tr>\n",
       "      <th>4</th>\n",
       "      <td>18.857033</td>\n",
       "      <td>19.850639</td>\n",
       "      <td>-0.064317</td>\n",
       "      <td>0.037184</td>\n",
       "      <td>0.074292</td>\n",
       "      <td>-0.471150</td>\n",
       "      <td>-0.332272</td>\n",
       "      <td>0.576530</td>\n",
       "      <td>0.003133</td>\n",
       "      <td>0.208197</td>\n",
       "      <td>24.565397</td>\n",
       "      <td>17</td>\n",
       "    </tr>\n",
       "  </tbody>\n",
       "</table>\n",
       "</div>"
      ],
      "text/plain": [
       "     coolant    ambient       i_d       i_q       i_s       u_q       u_d  \\\n",
       "0  18.805172  19.850691  0.004419  0.000328  0.004431 -0.450682 -0.350055   \n",
       "1  18.818571  19.850672  0.000606 -0.000785  0.000992 -0.325737 -0.305803   \n",
       "2  18.828770  19.850657  0.001290  0.000386  0.001346 -0.440864 -0.372503   \n",
       "3  18.835567  19.850647  0.000026  0.002046  0.002046 -0.327026 -0.316199   \n",
       "4  18.857033  19.850639 -0.064317  0.037184  0.074292 -0.471150 -0.332272   \n",
       "\n",
       "        u_s  motor_speed    torque         pm  profile_id  \n",
       "0  0.570659     0.002866  0.187101  24.554214          17  \n",
       "1  0.446789     0.000257  0.245417  24.538078          17  \n",
       "2  0.577165     0.002355  0.176615  24.544693          17  \n",
       "3  0.454893     0.006105  0.238303  24.554018          17  \n",
       "4  0.576530     0.003133  0.208197  24.565397          17  "
      ]
     },
     "execution_count": 3,
     "metadata": {},
     "output_type": "execute_result"
    }
   ],
   "source": [
    "data = data[['coolant', 'ambient','i_d','i_q','i_s','u_q','u_d','u_s','motor_speed','torque','pm','profile_id']]\n",
    "data.head()"
   ]
  },
  {
   "cell_type": "code",
   "execution_count": 4,
   "id": "fde97a44",
   "metadata": {},
   "outputs": [],
   "source": [
    "df = data.copy()\n",
    "df.drop(['profile_id'],axis=1,inplace=True)\n"
   ]
  },
  {
   "cell_type": "code",
   "execution_count": 5,
   "id": "6c659e2b",
   "metadata": {},
   "outputs": [],
   "source": [
    "x = df.drop('pm',axis=1)  \n",
    "y = df['pm']  "
   ]
  },
  {
   "cell_type": "code",
   "execution_count": 6,
   "id": "c10d24d2",
   "metadata": {},
   "outputs": [],
   "source": [
    "x_train,x_test,y_train,y_test = train_test_split(x,y,test_size=0.2,random_state=100)"
   ]
  },
  {
   "cell_type": "code",
   "execution_count": 7,
   "id": "83debccf",
   "metadata": {},
   "outputs": [],
   "source": [
    "scaler = StandardScaler()\n",
    "x_train_scaled = scaler.fit_transform(x_train)\n",
    "x_test_scaled = scaler.transform(x_test)"
   ]
  },
  {
   "cell_type": "code",
   "execution_count": null,
   "id": "a49df7fe",
   "metadata": {},
   "outputs": [],
   "source": [
    "model = XGBRegressor()\n",
    "model.fit(x_train_scaled,y_train)"
   ]
  },
  {
   "cell_type": "code",
   "execution_count": 9,
   "id": "efc4cef2",
   "metadata": {},
   "outputs": [
    {
     "data": {
      "text/plain": [
       "['XGB_Model.pkl']"
      ]
     },
     "execution_count": 9,
     "metadata": {},
     "output_type": "execute_result"
    }
   ],
   "source": [
    "joblib_file = \"XGB_Model.pkl\"\n",
    "joblib.dump(model, joblib_file)"
   ]
  },
  {
   "cell_type": "code",
   "execution_count": null,
   "id": "dfd79a2d",
   "metadata": {},
   "outputs": [],
   "source": []
  }
 ],
 "metadata": {
  "kernelspec": {
   "display_name": "Python 3 (ipykernel)",
   "language": "python",
   "name": "python3"
  },
  "language_info": {
   "codemirror_mode": {
    "name": "ipython",
    "version": 3
   },
   "file_extension": ".py",
   "mimetype": "text/x-python",
   "name": "python",
   "nbconvert_exporter": "python",
   "pygments_lexer": "ipython3",
   "version": "3.9.13"
  }
 },
 "nbformat": 4,
 "nbformat_minor": 5
}
